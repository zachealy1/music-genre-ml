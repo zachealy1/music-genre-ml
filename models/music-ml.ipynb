{
 "cells": [
  {
   "metadata": {},
   "cell_type": "markdown",
   "source": [
    "# 🎶 Music Genre & Taste Classification with Machine Learning 🎶\n",
    "\n",
    "## Install Pandas\n",
    "This command installs the Pandas library, which is essential for data manipulation and analysis in Python."
   ],
   "id": "98c774b876f4067f"
  },
  {
   "cell_type": "code",
   "execution_count": null,
   "id": "initial_id",
   "metadata": {
    "collapsed": true
   },
   "outputs": [],
   "source": "pip install pandas"
  },
  {
   "metadata": {},
   "cell_type": "markdown",
   "source": [
    "## Install or Update Scikit-Learn\n",
    "This command updates or installs the latest version of Scikit-Learn, a library for machine learning in Python.\n"
   ],
   "id": "9f566faadfe9018f"
  },
  {
   "metadata": {},
   "cell_type": "code",
   "outputs": [],
   "execution_count": null,
   "source": "pip install -U scikit-learn",
   "id": "26e1ae689af1f073"
  },
  {
   "metadata": {},
   "cell_type": "markdown",
   "source": [
    "## Import Libraries\n",
    "This code imports Pandas for data handling, `DecisionTreeClassifier` for building a decision tree model, and `train_test_split` for splitting data into training and testing sets."
   ],
   "id": "249ac8e94ff6d790"
  },
  {
   "metadata": {},
   "cell_type": "code",
   "outputs": [],
   "execution_count": null,
   "source": [
    "import pandas as pd\n",
    "from sklearn.tree import DecisionTreeClassifier\n",
    "from sklearn.model_selection import train_test_split"
   ],
   "id": "bf5279836b1db75c"
  },
  {
   "metadata": {},
   "cell_type": "markdown",
   "source": [
    "## Load Dataset\n",
    "Reads the `music.csv` file into a Pandas DataFrame `df`, which will be used for data exploration and model training."
   ],
   "id": "73c2dd987ecd972f"
  },
  {
   "metadata": {},
   "cell_type": "code",
   "outputs": [],
   "execution_count": null,
   "source": "df = pd.read_csv(\"data/music.csv\")",
   "id": "8558ff8fde43e3b"
  },
  {
   "metadata": {},
   "cell_type": "markdown",
   "source": [
    "## Data Summary\n",
    "Displays summary statistics for the DataFrame, helping to understand data distribution and identify any potential issues.\n"
   ],
   "id": "ce2ba570b11258dc"
  },
  {
   "metadata": {},
   "cell_type": "code",
   "outputs": [],
   "execution_count": null,
   "source": "df.describe()",
   "id": "235ed6f79465f59e"
  },
  {
   "metadata": {},
   "cell_type": "markdown",
   "source": [
    "## Data Values\n",
    "Returns a NumPy array of the underlying values in the DataFrame, useful for certain numerical operations."
   ],
   "id": "58d766622a5c078e"
  },
  {
   "metadata": {},
   "cell_type": "code",
   "outputs": [],
   "execution_count": null,
   "source": "df.values",
   "id": "e210f44987f0d9eb"
  },
  {
   "metadata": {},
   "cell_type": "markdown",
   "source": [
    "## View DataFrame\n",
    "Displays the DataFrame, showing a preview of the data."
   ],
   "id": "416318dfcf7484a5"
  },
  {
   "metadata": {},
   "cell_type": "code",
   "outputs": [],
   "execution_count": null,
   "source": "df",
   "id": "ad01d37d5c7090b1"
  },
  {
   "metadata": {},
   "cell_type": "markdown",
   "source": [
    "## Define Features\n",
    "Creates a DataFrame `X` containing all features except for the target column `genre`, which will be used as model input.\n"
   ],
   "id": "4e72e7d099731386"
  },
  {
   "metadata": {},
   "cell_type": "code",
   "outputs": [],
   "execution_count": null,
   "source": "X = df.drop(columns=['genre'])",
   "id": "b7dec440e028cf94"
  },
  {
   "metadata": {},
   "cell_type": "markdown",
   "source": [
    "## View Features Data\n",
    "Displays the feature data that will be used to train the model."
   ],
   "id": "ac9a58d49da3d366"
  },
  {
   "metadata": {},
   "cell_type": "code",
   "outputs": [],
   "execution_count": null,
   "source": "X",
   "id": "633caff79d5069cb"
  },
  {
   "metadata": {},
   "cell_type": "markdown",
   "source": [
    "## View Data Again\n",
    "Displays the original DataFrame `df` again for reference."
   ],
   "id": "4d148397673e357"
  },
  {
   "metadata": {},
   "cell_type": "code",
   "outputs": [],
   "execution_count": null,
   "source": "df",
   "id": "ded0e72f969de251"
  },
  {
   "metadata": {},
   "cell_type": "markdown",
   "source": [
    "## Define Target Variable\n",
    "Creates a Series `y` containing only the target variable `genre`, which will be the model's output."
   ],
   "id": "75484083a3890292"
  },
  {
   "metadata": {},
   "cell_type": "code",
   "outputs": [],
   "execution_count": null,
   "source": "y = df['genre']",
   "id": "bae3b3e4dcd99669"
  },
  {
   "metadata": {},
   "cell_type": "markdown",
   "source": [
    "## View Target Data\n",
    "Displays the target data `y`, which consists of the genre labels."
   ],
   "id": "b68ece95396a202e"
  },
  {
   "metadata": {},
   "cell_type": "code",
   "outputs": [],
   "execution_count": null,
   "source": "y",
   "id": "691d42b3c8768c3c"
  },
  {
   "metadata": {},
   "cell_type": "markdown",
   "source": [
    "## Train Decision Tree Model\n",
    "Initialises a `DecisionTreeClassifier`, splits the data into training and testing sets, and trains the model on the training data."
   ],
   "id": "c2e681c60c4a1036"
  },
  {
   "metadata": {},
   "cell_type": "code",
   "outputs": [],
   "execution_count": null,
   "source": [
    "model = DecisionTreeClassifier()\n",
    "X_train, X_test, y_train, y_test = train_test_split(X, y, test_size=0.2)\n",
    "model.fit(X_train, y_train) "
   ],
   "id": "ec4c2f42e99682a2"
  },
  {
   "metadata": {},
   "cell_type": "markdown",
   "source": "",
   "id": "e1def7b08f0068d8"
  },
  {
   "metadata": {},
   "cell_type": "markdown",
   "source": [
    "## View DataFrame Again\n",
    "Displays the DataFrame once more for verification."
   ],
   "id": "f60fb81806e9d25c"
  },
  {
   "metadata": {},
   "cell_type": "code",
   "outputs": [],
   "execution_count": null,
   "source": "df",
   "id": "2e1b087feb0a3861"
  },
  {
   "metadata": {},
   "cell_type": "markdown",
   "source": [
    "## Make Predictions\n",
    "Uses the trained model to predict genres on the test set."
   ],
   "id": "8e34d9243b4ce570"
  },
  {
   "metadata": {},
   "cell_type": "code",
   "outputs": [],
   "execution_count": null,
   "source": "predections = model.predict(X_test)",
   "id": "2242719f88c6173e"
  },
  {
   "metadata": {},
   "cell_type": "markdown",
   "source": [
    "## View Predictions\n",
    "Displays the predicted genre labels for the test set."
   ],
   "id": "34c0c31523f755d0"
  },
  {
   "metadata": {},
   "cell_type": "code",
   "outputs": [],
   "execution_count": null,
   "source": "predections",
   "id": "c4e7b004c9f5dbce"
  }
 ],
 "metadata": {
  "kernelspec": {
   "display_name": "Python 3",
   "language": "python",
   "name": "python3"
  },
  "language_info": {
   "codemirror_mode": {
    "name": "ipython",
    "version": 2
   },
   "file_extension": ".py",
   "mimetype": "text/x-python",
   "name": "python",
   "nbconvert_exporter": "python",
   "pygments_lexer": "ipython2",
   "version": "2.7.6"
  }
 },
 "nbformat": 4,
 "nbformat_minor": 5
}
