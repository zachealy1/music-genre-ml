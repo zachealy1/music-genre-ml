{
 "cells": [
  {
   "metadata": {},
   "cell_type": "markdown",
   "source": [
    "# Music Genre Classification with Decision Tree Classifier\n",
    "\n",
    "This file demonstrates the steps to build a simple music genre classification model using a Decision Tree Classifier. The model is trained to predict music genres based on demographic features, such as age and gender, and evaluates its performance on a test set."
   ],
   "id": "3b1352adbf473597"
  },
  {
   "metadata": {},
   "cell_type": "markdown",
   "source": [
    "## Install or Update Scikit-Learn\n",
    "This command installs or updates Scikit-Learn, a machine learning library in Python that provides tools for model building, evaluation, and data processing."
   ],
   "id": "a8fa5d11867373c0"
  },
  {
   "cell_type": "code",
   "execution_count": null,
   "id": "initial_id",
   "metadata": {
    "collapsed": true
   },
   "outputs": [],
   "source": "pip install pandas"
  },
  {
   "metadata": {},
   "cell_type": "markdown",
   "source": [
    "## Import Libraries\n",
    "These imports include:\n",
    "\n",
    "- **Pandas** for data handling.\n",
    "- **DecisionTreeClassifier** for creating and training a decision tree model.\n",
    "- **train_test_split** to split data into training and testing sets.\n",
    "- **accuracy_score** to evaluate model performance."
   ],
   "id": "bf551a2851272192"
  },
  {
   "metadata": {},
   "cell_type": "code",
   "outputs": [],
   "execution_count": null,
   "source": "pip install -U scikit-learn",
   "id": "29bd41578461bfc0"
  },
  {
   "metadata": {},
   "cell_type": "markdown",
   "source": [
    "## Load the Dataset\n",
    "Loads the music.csv file into a DataFrame df and displays its contents to inspect the data."
   ],
   "id": "ba4c63d0d55a19a2"
  },
  {
   "metadata": {},
   "cell_type": "code",
   "outputs": [],
   "execution_count": null,
   "source": [
    "import pandas as pd\n",
    "from sklearn.tree import DecisionTreeClassifier\n",
    "from sklearn.model_selection import train_test_split\n",
    "from sklearn.metrics import accuracy_score"
   ],
   "id": "3793e70b732d2916"
  },
  {
   "metadata": {},
   "cell_type": "markdown",
   "source": [
    "## Data Summary\n",
    "Displays summary statistics for numerical columns in the DataFrame, which helps in understanding data distribution and identifying potential issues."
   ],
   "id": "3db90b6ed667666c"
  },
  {
   "metadata": {},
   "cell_type": "code",
   "outputs": [],
   "execution_count": null,
   "source": [
    "df = pd.read_csv(\"data/music.csv\")\n",
    "df"
   ],
   "id": "23012c21f34771f8"
  },
  {
   "metadata": {},
   "cell_type": "markdown",
   "source": [
    "## Data Summary\n",
    "Displays summary statistics for numerical columns in the DataFrame, which helps in understanding data distribution and identifying potential issues."
   ],
   "id": "b784b8cffa183c20"
  },
  {
   "metadata": {},
   "cell_type": "code",
   "outputs": [],
   "execution_count": null,
   "source": "df.describe()",
   "id": "98c4093fd1adb9ee"
  },
  {
   "metadata": {},
   "cell_type": "markdown",
   "source": [
    "## View Data Values\n",
    "Returns the underlying values of the DataFrame as a NumPy array, which can be useful for certain types of numerical analysis."
   ],
   "id": "6caa342c9b8354a7"
  },
  {
   "metadata": {},
   "cell_type": "code",
   "outputs": [],
   "execution_count": null,
   "source": "df.values",
   "id": "d61977a1d0e5efb7"
  },
  {
   "metadata": {},
   "cell_type": "markdown",
   "source": [
    "## Define Features\n",
    "Creates a DataFrame X containing all columns except genre, which will be used as model input features."
   ],
   "id": "eb42a387a3ee5dd5"
  },
  {
   "metadata": {},
   "cell_type": "code",
   "outputs": [],
   "execution_count": null,
   "source": [
    "X = df.drop(columns=['genre'])\n",
    "X"
   ],
   "id": "ba8a6ee920dce741"
  },
  {
   "metadata": {},
   "cell_type": "markdown",
   "source": [
    "## Define Target Variable\n",
    "Creates a Series y containing the target variable genre, which the model will be trained to predict."
   ],
   "id": "2e700e4e69186305"
  },
  {
   "metadata": {},
   "cell_type": "code",
   "outputs": [],
   "execution_count": null,
   "source": [
    "y = df['genre']\n",
    "y"
   ],
   "id": "4d454f1bc420c459"
  },
  {
   "metadata": {},
   "cell_type": "markdown",
   "source": [
    "## Train Decision Tree Model\n",
    "1. Initialises a DecisionTreeClassifier.\n",
    "2. Splits the data into training and test sets, with 20% of the data reserved for testing.\n",
    "3. Fits the model on the training data.\n",
    "4. Generates predictions for the test set and displays the predicted genre labels."
   ],
   "id": "cd65e1e5fb53b5a3"
  },
  {
   "metadata": {},
   "cell_type": "code",
   "outputs": [],
   "execution_count": null,
   "source": [
    "model = DecisionTreeClassifier()\n",
    "X_train, X_test, y_train, y_test = train_test_split(X, y, test_size=0.2)\n",
    "model.fit(X_train, y_train) \n",
    "predictions = model.predict(X_test)\n",
    "predictions"
   ],
   "id": "4f6323f7215dc5b6"
  },
  {
   "metadata": {},
   "cell_type": "markdown",
   "source": [
    "## View Original Data Again\n",
    "Displays the DataFrame df again for reference, showing the original data."
   ],
   "id": "f876c2a2b408a465"
  },
  {
   "metadata": {},
   "cell_type": "code",
   "outputs": [],
   "execution_count": null,
   "source": "df",
   "id": "3fbdefaed97ca358"
  },
  {
   "metadata": {},
   "cell_type": "markdown",
   "source": [
    "## Predict Genre for a Sample Input\n",
    "Predicts the genre for a sample user with an age of 24 and a gender value of 0 (presumably male). This is a test of how the model performs on new data."
   ],
   "id": "b1bdfd4d366beea2"
  },
  {
   "metadata": {},
   "cell_type": "code",
   "outputs": [],
   "execution_count": null,
   "source": [
    "maleTwenty = model.predict([ [24, 0] ])\n",
    "maleTwenty"
   ],
   "id": "404cfc33ec7abed4"
  },
  {
   "metadata": {},
   "cell_type": "markdown",
   "source": [
    "## Model Accuracy Score\n",
    "Calculates and displays the model’s accuracy on the test set. The accuracy score helps in assessing how well the model predicts genres for new data."
   ],
   "id": "bd6e7af6a3cf7c68"
  },
  {
   "metadata": {},
   "cell_type": "code",
   "outputs": [],
   "execution_count": null,
   "source": [
    "score = accuracy_score(y_test, predictions)\n",
    "score"
   ],
   "id": "3c43432066672e16"
  }
 ],
 "metadata": {
  "kernelspec": {
   "display_name": "Python 3",
   "language": "python",
   "name": "python3"
  },
  "language_info": {
   "codemirror_mode": {
    "name": "ipython",
    "version": 2
   },
   "file_extension": ".py",
   "mimetype": "text/x-python",
   "name": "python",
   "nbconvert_exporter": "python",
   "pygments_lexer": "ipython2",
   "version": "2.7.6"
  }
 },
 "nbformat": 4,
 "nbformat_minor": 5
}
